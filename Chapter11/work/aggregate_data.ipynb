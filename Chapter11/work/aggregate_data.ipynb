{
 "cells": [
  {
   "cell_type": "markdown",
   "id": "8fd35ad6-7499-40d5-a8c8-75e6a9f917a5",
   "metadata": {},
   "source": [
    "# PdM converter"
   ]
  },
  {
   "cell_type": "code",
   "execution_count": 12,
   "id": "52493395-09d3-4c6b-b71a-93a16130fb3b",
   "metadata": {},
   "outputs": [],
   "source": [
    "import pandas as pd \n",
    "import numpy as np # read the dataset \n",
    "df = pd.read_csv('./pdm_data/PdM_telemetry.csv')\n",
    "df['datetime'] = pd.to_datetime(df['datetime'])\n",
    "\n",
    "df_label = pd.read_csv('./pdm_data/PdM_errors.csv')\n",
    "df_label['datetime'] = pd.to_datetime(df_label['datetime'])\n",
    "\n",
    "df_label = df.merge(df_label, on=['datetime', 'machineID'], how='left')\n",
    "df_label['errorID'] = df_label['errorID'].apply(lambda x : 1 if x is not np.nan else 0)\n",
    "\n",
    "df = df_label[df_label['machineID']==1] # 1 o 12\n",
    "\n",
    "df = df[['datetime', 'volt', 'rotate', 'pressure', \n",
    "         'vibration', \n",
    "         'errorID']]\n",
    "df = df.rename(columns={\"errorID\": \"anomaly\"})\n",
    "df['vibration'] = 0.5\n",
    "df['datetime'] = df['datetime'] + pd.offsets.DateOffset(years=9)\n",
    "df[0:7000].to_csv('data_PdM_errors.csv', index=False)"
   ]
  },
  {
   "cell_type": "code",
   "execution_count": 3,
   "id": "2cd6629b-258d-4fa5-89e3-817884d72c95",
   "metadata": {},
   "outputs": [],
   "source": [
    "import pandas as pd \n",
    "import numpy as np # read the dataset \n",
    "df = pd.read_csv('./pdm_data/PdM_telemetry.csv')\n",
    "df['datetime'] = pd.to_datetime(df['datetime'])\n",
    "\n",
    "df_label = pd.read_csv('./pdm_data/PdM_failures.csv')\n",
    "df_label['datetime'] = pd.to_datetime(df_label['datetime'])\n",
    "\n",
    "df_label = df.merge(df_label, on=['datetime', 'machineID'], how='left')\n",
    "df_label['failure'] = df_label['failure'].apply(lambda x : 1 if x is not np.nan else 0)\n",
    "\n",
    "df = df_label[df_label['machineID']==1] # 1 o 12\n",
    "\n",
    "df = df[['datetime', 'volt', 'rotate', 'pressure', 'vibration', 'failure']]\n",
    "df[0:7000].to_csv('data_PdM_failures.csv', index=False)"
   ]
  },
  {
   "cell_type": "code",
   "execution_count": 7,
   "id": "8f2101f5-5bc1-47da-af19-e92882f5b7db",
   "metadata": {},
   "outputs": [
    {
     "data": {
      "text/plain": [
       "0      2024-01-01 06:00:00\n",
       "1      2024-01-01 07:00:00\n",
       "2      2024-01-01 08:00:00\n",
       "3      2024-01-01 09:00:00\n",
       "4      2024-01-01 10:00:00\n",
       "               ...        \n",
       "8756   2025-01-01 02:00:00\n",
       "8757   2025-01-01 03:00:00\n",
       "8758   2025-01-01 04:00:00\n",
       "8759   2025-01-01 05:00:00\n",
       "8760   2025-01-01 06:00:00\n",
       "Name: datetime, Length: 8761, dtype: datetime64[ns]"
      ]
     },
     "execution_count": 7,
     "metadata": {},
     "output_type": "execute_result"
    }
   ],
   "source": []
  },
  {
   "cell_type": "code",
   "execution_count": null,
   "id": "a2369caa-dde8-4b10-bdb7-f79711c7515f",
   "metadata": {},
   "outputs": [],
   "source": []
  }
 ],
 "metadata": {
  "kernelspec": {
   "display_name": "Python 3 (ipykernel)",
   "language": "python",
   "name": "python3"
  },
  "language_info": {
   "codemirror_mode": {
    "name": "ipython",
    "version": 3
   },
   "file_extension": ".py",
   "mimetype": "text/x-python",
   "name": "python",
   "nbconvert_exporter": "python",
   "pygments_lexer": "ipython3",
   "version": "3.11.6"
  }
 },
 "nbformat": 4,
 "nbformat_minor": 5
}
