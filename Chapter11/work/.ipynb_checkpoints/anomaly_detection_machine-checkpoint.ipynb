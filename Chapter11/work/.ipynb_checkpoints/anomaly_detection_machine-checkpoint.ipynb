{
 "cells": [
  {
   "cell_type": "markdown",
   "id": "a7ca1eb3-d292-4b9e-96d3-7c9db77469bc",
   "metadata": {},
   "source": [
    "# Anomaly Detection"
   ]
  },
  {
   "cell_type": "code",
   "execution_count": null,
   "id": "0146e88a-db37-41c0-bace-791b339e92a9",
   "metadata": {},
   "outputs": [],
   "source": [
    "!pip install pandas numpy matplotlib seaborn scipy pyod"
   ]
  },
  {
   "cell_type": "markdown",
   "id": "168d12be-e748-4eef-800d-a3ddbd4ae9f6",
   "metadata": {},
   "source": [
    "## Load data"
   ]
  },
  {
   "cell_type": "code",
   "execution_count": null,
   "id": "f0974beb-a57a-4aad-8a52-8fcfb18f8800",
   "metadata": {},
   "outputs": [],
   "source": [
    "import pandas as pd\n",
    "df = pd.read_csv('data_PdM_errors.csv')\n",
    "df['datetime'] = pd.to_datetime(df['datetime'])"
   ]
  },
  {
   "cell_type": "markdown",
   "id": "fddc21e6-e608-4f9f-bb0a-4af04a418c37",
   "metadata": {},
   "source": [
    "## EDA\n",
    "Show data"
   ]
  },
  {
   "cell_type": "code",
   "execution_count": null,
   "id": "8ed03d83-fb1a-4ea7-87c3-3420ac7ee209",
   "metadata": {},
   "outputs": [],
   "source": [
    "import matplotlib.pyplot as plt  \n",
    "\n",
    "# showing dataset \n",
    "df.plot(x='datetime', kind='line', subplots=True) \n",
    "plt.show() "
   ]
  },
  {
   "cell_type": "code",
   "execution_count": null,
   "id": "655abb98-cec6-4cb4-b931-074931c828da",
   "metadata": {},
   "outputs": [],
   "source": [
    "# analysis of variance\n",
    "df_std = df.std()\n",
    "print(df_std) "
   ]
  },
  {
   "cell_type": "code",
   "execution_count": null,
   "id": "a9a190fb-da15-492a-ac09-dd12a2726d53",
   "metadata": {},
   "outputs": [],
   "source": [
    "import matplotlib.pyplot as plt\n",
    "from seaborn import heatmap\n",
    "plt.figure(figsize=(15, 15))\n",
    "heatmap(df.corr(),annot=True,cmap='Blues', fmt='.2f')"
   ]
  },
  {
   "cell_type": "code",
   "execution_count": null,
   "id": "4f830ac7-5ea6-421f-a00e-6a94c873ba2c",
   "metadata": {},
   "outputs": [],
   "source": [
    "# separate into input and output variables \n",
    "X = df[['volt', 'rotate', 'pressure']].values\n",
    "y = df[['anomaly']].values\n",
    "\n",
    "idx_split=6500\n",
    "X_train, y_train = X[0:idx_split,:], y[0:idx_split]\n",
    "X_test, y_test = X[idx_split:,:], y[idx_split:]"
   ]
  },
  {
   "cell_type": "markdown",
   "id": "8bf17a7d-2ea2-41d2-a22c-eeb64370a508",
   "metadata": {},
   "source": [
    "### Feature selection\n",
    "USe RFE to select the most important varaible"
   ]
  },
  {
   "cell_type": "code",
   "execution_count": null,
   "id": "3453118c-dfbe-4020-9401-cb7cfe291802",
   "metadata": {},
   "outputs": [],
   "source": [
    "from sklearn.feature_selection import RFE\n",
    "from sklearn.ensemble import RandomForestRegressor\n",
    "\n",
    "# perform feature selection \n",
    "rfe = RFE(RandomForestRegressor(n_estimators=500, random_state=1))  \n",
    "rfe = rfe.fit(X, y) "
   ]
  },
  {
   "cell_type": "code",
   "execution_count": null,
   "id": "ea1444a2-5298-41d8-a9f0-14a4246cb1b5",
   "metadata": {},
   "outputs": [],
   "source": [
    "# report selected features \n",
    "print('Selected Features:') \n",
    "names = df.columns.values[1:-1] \n",
    "\n",
    "for i in range(len(rfe.support_)): \n",
    "    if rfe.support_[i]: \n",
    "        print(names[i]) "
   ]
  },
  {
   "cell_type": "markdown",
   "id": "4c0e8279-473b-4088-9e47-fd909a6906bd",
   "metadata": {},
   "source": [
    "# Build algorithm Moving average\n",
    "* Moving average\n",
    "* Id standard deviation is too high => anomaly"
   ]
  },
  {
   "cell_type": "code",
   "execution_count": null,
   "id": "fd22506d-18d6-4c6a-b131-3b31bc7d2601",
   "metadata": {},
   "outputs": [],
   "source": [
    "import numpy as np\n",
    "\n",
    "def moving_average(data, window_size): \n",
    "    window = np.ones(int(window_size))/float(window_size)  \n",
    "    return np.convolve(data, window, 'same') \n",
    "\n",
    "def search_anomalies(x, window_size, sigma=1.0): \n",
    "    avg = moving_average(x, window_size).tolist() \n",
    "    residual = x - avg \n",
    "    \n",
    "    # Calculate the variation in the distribution of the residual \n",
    "    std = np.std(residual) \n",
    "\n",
    "    anomalies=[] \n",
    "    i=int(window_size)\n",
    "\n",
    "    for y_i, avg_i in zip(x, avg): \n",
    "        if (y_i > avg_i + (sigma*std)) | (y_i < avg_i - (sigma*std)):  \n",
    "            anomalies.append(1)\n",
    "        else:\n",
    "            anomalies.append(0)\n",
    "    \n",
    "    return np.array(anomalies)"
   ]
  },
  {
   "cell_type": "code",
   "execution_count": null,
   "id": "4f55f1b8-2de4-4c15-bd9b-d4d47f13c4be",
   "metadata": {},
   "outputs": [],
   "source": [
    "from sklearn.metrics import confusion_matrix, accuracy_score\n",
    "import matplotlib.pyplot as plt\n",
    "def show_anomalies(X_test, y_test, y_predicted, anomalous=1, title=''):\n",
    "    t = np.array([i for i in range(len(y_test))]) \n",
    "    \n",
    "    idx_predicted = y_predicted==anomalous\n",
    "    idx_real = y_test==anomalous\n",
    "    \n",
    "    plt.figure(figsize=(10,5))\n",
    "    plt.xlabel('samples')\n",
    "    plt.ylabel(title)\n",
    "    plt.plot(t,X_test,'tab:gray')\n",
    "    plt.plot(t[idx_predicted], X_test[idx_predicted],'rD', label=\"predicted anomaly\")\n",
    "    plt.plot(t[idx_real],X_test[idx_real],'gX', label=\"real anomaly\")\n",
    "    plt.legend()\n",
    "    plt.show()\n",
    "\n",
    "    print('accuracy:',accuracy_score(idx_real,idx_predicted))\n",
    "    print('confusion matrix:\\n',confusion_matrix(idx_real,idx_predicted))"
   ]
  },
  {
   "cell_type": "code",
   "execution_count": null,
   "id": "f8ba7e40-82a4-41c6-85fc-a34c9627e35f",
   "metadata": {},
   "outputs": [],
   "source": [
    "volt = df['volt'].values  \n",
    "rotate = df['rotate'].values\n",
    "pressure = df['pressure'].values  \n",
    "vibration = df['vibration'].values \n",
    "\n",
    "anomalies_volt = search_anomalies(volt, window_size=60, sigma=2) \n",
    "anomalies_vibration = search_anomalies(vibration, window_size=60, sigma=2)\n",
    "anomalies_rotate = search_anomalies(rotate, window_size=60, sigma=2) \n",
    "anomalies_pressure = search_anomalies(pressure, window_size=60, sigma=2) "
   ]
  },
  {
   "cell_type": "code",
   "execution_count": null,
   "id": "3c67093c-812a-4412-b7ab-0320a3d561f3",
   "metadata": {},
   "outputs": [],
   "source": [
    "#showing results\n",
    "show_anomalies(volt[idx_split:], y[idx_split:], anomalies_volt[idx_split:], title='volt (V)')\n",
    "show_anomalies(vibration[idx_split:], y[idx_split:], anomalies_vibration[idx_split:], title='vibration')\n",
    "show_anomalies(rotate[idx_split:], y[idx_split:], anomalies_rotate[idx_split:], title='rotate')\n",
    "show_anomalies(pressure[idx_split:], y[idx_split:], anomalies_pressure[idx_split:], title='pressure')\n",
    "plt.show() "
   ]
  },
  {
   "cell_type": "code",
   "execution_count": null,
   "id": "2ed5b971-ee10-4ee4-b39e-28594a6076bb",
   "metadata": {},
   "outputs": [],
   "source": [
    "import numpy as np\n",
    "def test_search_anomalies():\n",
    "    data=np.array([10, 10, 10, 10, 30, 20, 10, 10]) \n",
    "    return search_anomalies(data, 2)\n",
    "test_search_anomalies()"
   ]
  },
  {
   "cell_type": "markdown",
   "id": "2c20374c-5578-4b7f-a684-c0b9f2edfc48",
   "metadata": {},
   "source": [
    "## Version 2 with ML and ARIMA"
   ]
  },
  {
   "cell_type": "code",
   "execution_count": null,
   "id": "5a4e81dd-202b-4800-a966-f1eafa598de7",
   "metadata": {},
   "outputs": [],
   "source": [
    "from statsmodels.tsa.arima.model import ARIMA\n",
    "from matplotlib import pyplot\n",
    "import numpy as np\n",
    "from sklearn.svm import OneClassSVM\n",
    "def ARIMA_residuals(series): \n",
    "    # fit model \n",
    "    model = ARIMA(series, order=(5,1,3)) \n",
    "    model_fit = model.fit() \n",
    "    print(model_fit.summary()) \n",
    "    \n",
    "    # plot residual errors \n",
    "    residuals = pd.DataFrame(model_fit.resid)  \n",
    "    \n",
    "    return residuals.T \n",
    "\n",
    "  \n",
    "def search_anomalies_OCSVM(X_train, X_test): \n",
    "    clf = OneClassSVM(nu=0.01, kernel=\"rbf\", gamma=0.01).fit(X_train)\n",
    "    y_pred = clf.predict(X_test) \n",
    "    anomalies=[ 0 if _x > 0 else 1 for _x in y_pred] \n",
    "    return np.array(anomalies)"
   ]
  },
  {
   "cell_type": "code",
   "execution_count": null,
   "id": "a5593eac-56b7-47d7-97ef-8552cee38d43",
   "metadata": {},
   "outputs": [],
   "source": [
    "X_residual=np.vstack(( ARIMA_residuals(volt), \n",
    "             ARIMA_residuals(rotate),\n",
    "            #ARIMA_residuals(vibration)),\n",
    "             ARIMA_residuals(pressure))).T \n",
    "anomalies=search_anomalies_OCSVM(X_residual, X_residual)"
   ]
  },
  {
   "cell_type": "code",
   "execution_count": null,
   "id": "89f64bd0-fec0-47ff-9270-1c7adc630c1f",
   "metadata": {},
   "outputs": [],
   "source": [
    "plt.plot(X_residual[:,0],X_residual[:,1],'k.')\n",
    "plt.plot(X_residual[anomalies==1,0], X_residual[anomalies==1,1],'rx')"
   ]
  },
  {
   "cell_type": "code",
   "execution_count": null,
   "id": "a2f08e0c-9c5a-429c-88cc-8f43db2a3077",
   "metadata": {},
   "outputs": [],
   "source": [
    "#showing results\n",
    "show_anomalies(volt[idx_split:], y[idx_split:], anomalies[idx_split:])\n",
    "show_anomalies(vibration[idx_split:], y[idx_split:], anomalies[idx_split:])"
   ]
  },
  {
   "cell_type": "markdown",
   "id": "a585b765-f902-4a7c-ba5a-59e289d9c73f",
   "metadata": {},
   "source": [
    "## Version 3 with isolation Forest"
   ]
  },
  {
   "cell_type": "code",
   "execution_count": null,
   "id": "0dadf957-0323-4832-b01a-4fef5b573d00",
   "metadata": {},
   "outputs": [],
   "source": [
    "from sklearn.ensemble import IsolationForest\n",
    "\n",
    "clf = IsolationForest(contamination=float(0.1))\n",
    "clf.fit(X_train)"
   ]
  },
  {
   "cell_type": "code",
   "execution_count": null,
   "id": "aacea80d-48f4-4178-98e5-3a41c9ea387c",
   "metadata": {},
   "outputs": [],
   "source": [
    "anomalies = clf.predict(X_test)\n",
    "anomalies = np.array([1 if _x < 0  else 0 for _x in anomalies]) "
   ]
  },
  {
   "cell_type": "code",
   "execution_count": null,
   "id": "3eb4033c-1f9d-4fee-ac57-d6ffcdaae3de",
   "metadata": {},
   "outputs": [],
   "source": [
    "show_anomalies(X_test[:,0], y_test, anomalies)"
   ]
  },
  {
   "cell_type": "markdown",
   "id": "c4812401-8c05-494f-b5e1-8090d68f6f2a",
   "metadata": {},
   "source": [
    "# PYOD"
   ]
  },
  {
   "cell_type": "code",
   "execution_count": null,
   "id": "b8c594af-9943-417c-a122-98d011f81b7f",
   "metadata": {},
   "outputs": [],
   "source": [
    "from pyod.models.inne import INNE\n",
    "clf = INNE(contamination=0.1)\n",
    "clf.fit(X_train)"
   ]
  },
  {
   "cell_type": "code",
   "execution_count": null,
   "id": "a08b38cc-83ff-4170-b5b5-0c7d853dd064",
   "metadata": {},
   "outputs": [],
   "source": [
    "anomalies = clf.predict(X_test)\n",
    "print(f'found {np.sum(anomalies)} anomalies')"
   ]
  },
  {
   "cell_type": "code",
   "execution_count": null,
   "id": "9bc153f7-928f-4e32-929d-f05bc4713087",
   "metadata": {},
   "outputs": [],
   "source": [
    "show_anomalies(X_test[:,0], y_test, anomalies)"
   ]
  },
  {
   "cell_type": "code",
   "execution_count": null,
   "id": "40698ee3-d8f5-4f26-9018-3a3688767ea0",
   "metadata": {},
   "outputs": [],
   "source": []
  },
  {
   "cell_type": "code",
   "execution_count": null,
   "id": "8cfa077a-3084-495c-8f55-5b1c9b3d22a1",
   "metadata": {},
   "outputs": [],
   "source": []
  },
  {
   "cell_type": "code",
   "execution_count": null,
   "id": "8a099867-1641-46fc-a89e-da8eba800c1b",
   "metadata": {},
   "outputs": [],
   "source": []
  }
 ],
 "metadata": {
  "kernelspec": {
   "display_name": "Python 3 (ipykernel)",
   "language": "python",
   "name": "python3"
  },
  "language_info": {
   "codemirror_mode": {
    "name": "ipython",
    "version": 3
   },
   "file_extension": ".py",
   "mimetype": "text/x-python",
   "name": "python",
   "nbconvert_exporter": "python",
   "pygments_lexer": "ipython3",
   "version": "3.11.6"
  }
 },
 "nbformat": 4,
 "nbformat_minor": 5
}
