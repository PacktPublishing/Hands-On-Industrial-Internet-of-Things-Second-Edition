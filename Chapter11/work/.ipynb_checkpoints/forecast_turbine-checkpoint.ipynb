{
 "cells": [
  {
   "cell_type": "markdown",
   "id": "8a4d04bf-946f-4794-89f3-6c2c15f5a5ad",
   "metadata": {},
   "source": [
    "# Forecast power consumption production"
   ]
  },
  {
   "cell_type": "code",
   "execution_count": null,
   "id": "d6ffd671-853e-4072-af83-1544a8a631a0",
   "metadata": {},
   "outputs": [],
   "source": [
    "!pip install prophet"
   ]
  },
  {
   "cell_type": "code",
   "execution_count": null,
   "id": "cffbc58d-e541-46d8-acc8-e7c3f5e3caff",
   "metadata": {},
   "outputs": [],
   "source": [
    "import pandas as pd"
   ]
  },
  {
   "cell_type": "markdown",
   "id": "337d2b6a-eecb-4b2d-997d-a90e667bcde6",
   "metadata": {},
   "source": [
    "## Load Data"
   ]
  },
  {
   "cell_type": "code",
   "execution_count": null,
   "id": "0d302fc5-23da-42e8-bc41-93d46da22963",
   "metadata": {},
   "outputs": [],
   "source": [
    "import pandas as pd\n",
    "df = pd.read_csv('data_AEP.csv')\n",
    "df = df.rename(columns={'Datetime': 'ds', 'AEP_MW': 'y'})\n",
    "df = df[0:1000]"
   ]
  },
  {
   "cell_type": "markdown",
   "id": "06c3da49-2267-40b0-9479-781b80f0e078",
   "metadata": {},
   "source": [
    "## EDA"
   ]
  },
  {
   "cell_type": "code",
   "execution_count": null,
   "id": "c317e6e4-e405-455a-8b94-dd528b591ca6",
   "metadata": {},
   "outputs": [],
   "source": [
    "df.describe()"
   ]
  },
  {
   "cell_type": "code",
   "execution_count": null,
   "id": "681becfc-9307-4338-ae58-3a2f7d6c885e",
   "metadata": {},
   "outputs": [],
   "source": [
    "df['y'].plot()"
   ]
  },
  {
   "cell_type": "markdown",
   "id": "4c24a146-56a3-4ba5-8918-22261cf21b69",
   "metadata": {},
   "source": [
    "## Model"
   ]
  },
  {
   "cell_type": "code",
   "execution_count": null,
   "id": "41ee1253-e618-4258-a6db-e8855b857853",
   "metadata": {},
   "outputs": [],
   "source": [
    "from prophet import Prophet\n",
    "period = int(72) # hours\n",
    "m = Prophet()\n",
    "m.fit(df[:-1*period])"
   ]
  },
  {
   "cell_type": "code",
   "execution_count": null,
   "id": "b704e666-a8e5-4c93-b66c-aa30daab4e44",
   "metadata": {},
   "outputs": [],
   "source": [
    "future = m.make_future_dataframe(periods=period,freq='h',include_history=False)\n",
    "forecast = m.predict(future)"
   ]
  },
  {
   "cell_type": "code",
   "execution_count": null,
   "id": "9c768b66-e030-45c7-8d3b-c854988aba29",
   "metadata": {},
   "outputs": [],
   "source": [
    "# Python\n",
    "import matplotlib.pyplot as plt\n",
    "y_hat= forecast[['yhat']].values\n",
    "y_test = df[-1*period:][[\"y\"]].values\n",
    "\n",
    "plt.figure(figsize=(10,5))\n",
    "plt.plot(y_hat,'g', label=f\"predicted {int(y_hat.mean())}\")\n",
    "plt.plot(y_test,'ko-', label=f\"real  {int(y_test.mean())}\")\n",
    "plt.legend()\n",
    "plt.xlabel('hours')\n",
    "plt.ylabel('LV ActivePower (kW)')\n",
    "plt.ylim(0,22000)\n",
    "plt.grid()\n",
    "plt.show()"
   ]
  },
  {
   "cell_type": "code",
   "execution_count": null,
   "id": "1812ec03-60c7-4848-8501-909448e7f887",
   "metadata": {},
   "outputs": [],
   "source": [
    "from sklearn.metrics import r2_score\n",
    "r2_score(y_test, y_hat)"
   ]
  },
  {
   "cell_type": "code",
   "execution_count": null,
   "id": "fb4ac3a5-e20d-44b6-8521-9269b9a26f7c",
   "metadata": {},
   "outputs": [],
   "source": []
  }
 ],
 "metadata": {
  "kernelspec": {
   "display_name": "Python 3 (ipykernel)",
   "language": "python",
   "name": "python3"
  },
  "language_info": {
   "codemirror_mode": {
    "name": "ipython",
    "version": 3
   },
   "file_extension": ".py",
   "mimetype": "text/x-python",
   "name": "python",
   "nbconvert_exporter": "python",
   "pygments_lexer": "ipython3",
   "version": "3.11.6"
  }
 },
 "nbformat": 4,
 "nbformat_minor": 5
}
